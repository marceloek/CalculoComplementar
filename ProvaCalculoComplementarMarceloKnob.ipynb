{
 "cells": [
  {
   "cell_type": "code",
   "execution_count": 1,
   "metadata": {},
   "outputs": [
    {
     "name": "stdout",
     "output_type": "stream",
     "text": [
      "analise marginal:  2100\n",
      "taxa de variacao:  2069\n"
     ]
    }
   ],
   "source": [
    "# Problema 01:\n",
    "\n",
    "import sympy as sym\n",
    "\n",
    "x_sb, y_sb, z_sb = sym.symbols('x y z')\n",
    "\n",
    "f = 1200*x_sb + 500*y_sb + pow(x_sb,2)*y_sb - pow(x_sb,3) - pow(y_sb,2)\n",
    "\n",
    "derivada_parcial_x_sb = sym.diff(f,x_sb)\n",
    "z = lambda x, y: eval(str(derivada_parcial_x_sb))\n",
    "print('analise marginal: ', z(30,60))\n",
    "\n",
    "# taxa de variacao\n",
    "fx = lambda x, y: 1200*x + 500*y + pow(x,2)*y - pow(x,3) - pow(y,2)\n",
    "print('taxa de variacao: ', fx(30+1,60)-fx(30,60))\n",
    "\n",
    "# Para cada trabalhador qualificado aumenta a produção em 2069 unidades\n"
   ]
  },
  {
   "cell_type": "code",
   "execution_count": 2,
   "metadata": {},
   "outputs": [
    {
     "name": "stdout",
     "output_type": "stream",
     "text": [
      "6800 - 800*x\n",
      "-400\n"
     ]
    }
   ],
   "source": [
    "# Problema 02:\n",
    "\n",
    "import sympy as sp\n",
    "\n",
    "x = sp.symbols('x')\n",
    "d = sp.diff(-(400*(x**2)) + (6800*x) - (12000), x)\n",
    "print(d)\n",
    "\n",
    "z = lambda x: eval(str(d))\n",
    "resp = z(9)  \n",
    "print(resp)\n",
    "\n",
    "# Com a inclinação sendo -400, significa que a inclinação é para baixo \n",
    "# Logo, para um nível de produção de 9000 unidades, o lucro diminui quando a produção aumenta"
   ]
  },
  {
   "cell_type": "code",
   "execution_count": 5,
   "metadata": {},
   "outputs": [
    {
     "name": "stdout",
     "output_type": "stream",
     "text": [
      "A)\n",
      "\n",
      "A criança pesa 34 kg A criança tem 1 m e 20 cm de altura. O objetivo do problema é estimar qual será a variação da área superficial se a criança engorda 1 kg e altura permanecer inalterada\n",
      "\n",
      "B)\n",
      "\n",
      "0.012961333555455532\n",
      "0.006782365086759479\n",
      "\n",
      "\n",
      "C)\n",
      "\n",
      "0.0004559273231530478\n"
     ]
    }
   ],
   "source": [
    "# Problema 03\n",
    "\n",
    "# S(W,H)= 0,0072W**0.425 * H**0.0725\n",
    "\n",
    "import sympy as sp\n",
    "\n",
    "x, h, w = sp.symbols('x h w')\n",
    "\n",
    "f = lambda h,w: 0.0072*w**0.425 * h**0.0725\n",
    "print('A)\\n\\nA criança pesa 34 kg A criança tem 1 m e 20 cm de altura. O objetivo do problema é estimar qual será a variação da área superficial se a criança engorda 1 kg e altura permanecer inalterada')\n",
    "\n",
    "\n",
    "#B) \n",
    "print('\\nB)\\n')\n",
    "\n",
    "fw = lambda w,h: (0.00306*w**(-0.575)) * h**0.725\n",
    "fh = lambda w,h: 0.00522*w**(0.425) * h**-(0.275)\n",
    "print(fw(50,163))\n",
    "print(fh(50,163))\n",
    "\n",
    "# C)\n",
    "\n",
    "f1 = lambda w,h: (0.0072*w**0.425) * (h**0.725)\n",
    "print('\\n\\nC)\\n')\n",
    "print(f1(35,1.20)-f1(34,1.20))\n",
    "\n"
   ]
  },
  {
   "cell_type": "code",
   "execution_count": null,
   "metadata": {},
   "outputs": [],
   "source": []
  }
 ],
 "metadata": {
  "kernelspec": {
   "display_name": "Python 3",
   "language": "python",
   "name": "python3"
  },
  "language_info": {
   "codemirror_mode": {
    "name": "ipython",
    "version": 3
   },
   "file_extension": ".py",
   "mimetype": "text/x-python",
   "name": "python",
   "nbconvert_exporter": "python",
   "pygments_lexer": "ipython3",
   "version": "3.6.8"
  }
 },
 "nbformat": 4,
 "nbformat_minor": 2
}
